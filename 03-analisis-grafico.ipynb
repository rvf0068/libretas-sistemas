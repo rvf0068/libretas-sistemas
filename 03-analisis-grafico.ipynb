{
  "cells": [
    {
      "cell_type": "markdown",
      "metadata": {},
      "source": "Animaciones\n===========\n\n**Date:** 2022-03-30\n\n"
    },
    {
      "cell_type": "markdown",
      "metadata": {},
      "source": [
        "Aquí primero ilustramos cómo se produce una animación sencilla.\n\n"
      ]
    },
    {
      "cell_type": "code",
      "execution_count": 1,
      "metadata": {},
      "outputs": [],
      "source": [
        "from matplotlib import pyplot as plt\nfrom celluloid import Camera\nfrom IPython.display import HTML\n\nfig = plt.figure()\ncamera = Camera(fig)\nfor i in range(10):\n    plt.plot([i] * 10)\n    camera.snap()\nanimation = camera.animate()\nHTML(animation.to_html5_video())"
      ]
    },
    {
      "cell_type": "markdown",
      "metadata": {},
      "source": [
        "El diagrama de telaraña para $f(x)=\\mu x(1-x)$. En la función `diagrama`, el argumento `par` es el parámetro $\\mu$, `x0` es el punto inicial (en el intervalo $[0,1]$) e `it` es la cantidad de iteraciones.\n\n"
      ]
    },
    {
      "cell_type": "code",
      "execution_count": 1,
      "metadata": {},
      "outputs": [],
      "source": [
        "import numpy as np\nfrom matplotlib import pyplot as plt\nfrom celluloid import Camera\n\ndef diagrama(par, x0, it):\n    def f(x):\n        return par*x*(1-x)\n    fig, ax = plt.subplots()\n    ax.set_aspect('equal', adjustable='box')\n    camera = Camera(fig)\n    x = [x0]\n    y = [x0]\n    s = np.arange(0, 1, 0.01)\n    for i in range(it):\n        ax.plot(s, f(s), lw=2, color='blue')\n        ax.plot(s, s, color='black')\n        x.append(x[2*i])\n        x.append(f(x[2*i]))\n        y.append(f(y[2*i]))\n        y.append(f(y[2*i]))\n        ax.plot(x, y, color='red')\n        camera.snap()\n    return camera.animate()\n\n# ver 2, 2.5, 3, 3.1, 3.2 (y cambiando punto inicial a 0.5)\n# 3.6 con 100 iteraciones\n# la figura 4.4 del libro es con parámetro 4 y algo así como\n# 400 iteraciones\nanim = diagrama(2, 0.1, 20)\nHTML(anim.to_html5_video())"
      ]
    }
  ],
  "metadata": {
    "org": null,
    "kernelspec": {
      "display_name": "Python 3",
      "language": "python",
      "name": "python3"
    },
    "language_info": {
      "codemirror_mode": {
        "name": "ipython",
        "version": 3
      },
      "file_extension": ".py",
      "mimetype": "text/x-python",
      "name": "python",
      "nbconvert_exporter": "python",
      "pygments_lexer": "ipython3",
      "version": "3.5.2"
    }
  },
  "nbformat": 4,
  "nbformat_minor": 0
}