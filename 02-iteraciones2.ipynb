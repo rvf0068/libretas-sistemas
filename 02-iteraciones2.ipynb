{
  "cells": [
    {
      "cell_type": "markdown",
      "metadata": {},
      "source": "Ejemplos 2\n==========\n\n"
    },
    {
      "cell_type": "markdown",
      "metadata": {},
      "source": [
        "Definimos las funciones que se consideran en la sección 3.6.\n\n"
      ]
    },
    {
      "cell_type": "code",
      "execution_count": 1,
      "metadata": {},
      "outputs": [],
      "source": [
        "def F(x):\n    return x**2 - 2\n\ndef G(x, c=-1):\n    return x**2 + c\n\ndef D(x):\n    if 0<= x < 1/2:\n        return 2*x\n    elif 1/2 <= x <= 1:\n        return 2*x - 1\n\nD(1/2), D(0.3), D(D(0.3))"
      ]
    },
    {
      "cell_type": "markdown",
      "metadata": {},
      "source": [
        "Aquí se define una función que, dado un argumento `n`, regresa una lista con las primeras `n` iteraciones de la función `f` definida arriba, con la condición inicial `x_0=2`.\n\n"
      ]
    },
    {
      "cell_type": "code",
      "execution_count": 1,
      "metadata": {},
      "outputs": [],
      "source": [
        "from ipywidgets import interact\n\ndef iteracionesF(n = 10, x_0 = 2):\n    its = [x_0]\n    for i in range(n):\n        nuevo = F(its[-1])\n        its.append(nuevo)\n    return its    \n\ninteract(iteracionesF, n = (10, 200, 5), x_0 = (-2, 2, 0.1))"
      ]
    },
    {
      "cell_type": "code",
      "execution_count": 1,
      "metadata": {},
      "outputs": [],
      "source": [
        "from ipywidgets import interact\n\ndef iteracionesG(n = 10, x_0 = 2):\n    its = [x_0]\n    for i in range(n):\n        nuevo = G(its[-1])\n        its.append(nuevo)\n    return its    \n\ninteract(iteracionesF, n = (10, 200, 5), x_0 = (-2, 2, 0.1))"
      ]
    }
  ],
  "metadata": {
    "org": null,
    "kernelspec": {
      "display_name": "Python 3",
      "language": "python",
      "name": "python3"
    },
    "language_info": {
      "codemirror_mode": {
        "name": "ipython",
        "version": 3
      },
      "file_extension": ".py",
      "mimetype": "text/x-python",
      "name": "python",
      "nbconvert_exporter": "python",
      "pygments_lexer": "ipython3",
      "version": "3.5.2"
    }
  },
  "nbformat": 4,
  "nbformat_minor": 0
}