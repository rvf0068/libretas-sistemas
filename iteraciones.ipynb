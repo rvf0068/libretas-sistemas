{
  "cells": [
    {
      "cell_type": "markdown",
      "metadata": {},
      "source": "Ejemplos\n========\n\n"
    },
    {
      "cell_type": "markdown",
      "metadata": {},
      "source": [
        "Aquí definimos la función $f(x)=\\frac{1}{2}(x+\\frac{5}{x})$.\n\n"
      ]
    },
    {
      "cell_type": "code",
      "execution_count": 1,
      "metadata": {},
      "outputs": [],
      "source": [
        "def f(x):\n    return 1/2*(x+5/x)\n\nf(2)"
      ]
    },
    {
      "cell_type": "markdown",
      "metadata": {},
      "source": [
        "Las iteradas se pueden calcular en Python con notación de funciones.\n\n"
      ]
    },
    {
      "cell_type": "code",
      "execution_count": 1,
      "metadata": {},
      "outputs": [],
      "source": [
        "f(f(2))"
      ]
    },
    {
      "cell_type": "markdown",
      "metadata": {},
      "source": [
        "Aquí se define una función que, dado un argumento `n`, regresa una lista con las primeras `n` iteraciones de la función `f` definida arriba, con la condición inicial `x_0=2`.\n\n"
      ]
    },
    {
      "cell_type": "code",
      "execution_count": 1,
      "metadata": {},
      "outputs": [],
      "source": [
        "def iteraciones(n):\n    x_0 = 2\n    its = [x_0]\n    for i in range(n):\n        nuevo = f(its[-1])\n        its.append(nuevo)\n    return its    \n\niteraciones(3)"
      ]
    }
  ],
  "metadata": {
    "org": null,
    "kernelspec": {
      "display_name": "Python 3",
      "language": "python",
      "name": "python3"
    },
    "language_info": {
      "codemirror_mode": {
        "name": "ipython",
        "version": 3
      },
      "file_extension": ".py",
      "mimetype": "text/x-python",
      "name": "python",
      "nbconvert_exporter": "python",
      "pygments_lexer": "ipython3",
      "version": "3.5.2"
    }
  },
  "nbformat": 4,
  "nbformat_minor": 0
}