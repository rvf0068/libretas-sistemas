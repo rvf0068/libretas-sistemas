{
  "cells": [
    {
      "cell_type": "markdown",
      "metadata": {},
      "source": "Diagrama de bifurcaciones\n=========================\n\n"
    },
    {
      "cell_type": "markdown",
      "metadata": {},
      "source": [
        "En esta función consideramos la órbita del $0$ respecto a iteraciones del mapeo cuadrático $Q_{c}(x)=x^{2}+c$ para diversos valores de $c$ entre $-2$ y $\\frac{1}{4}$. Como nos interesa el comportamiento \"eventual\" de la órbita, para cada valor de $c$ graficamos solamente las iteraciones con índice entre 950 y 1000. \n\n"
      ]
    },
    {
      "cell_type": "code",
      "execution_count": 1,
      "metadata": {},
      "outputs": [],
      "source": [
        "import matplotlib.pyplot as plt \nimport numpy as np\n\nfig, ax = plt.subplots(figsize=(10, 10))\n\ns = np.arange(-2, 0.25, 0.001)\nfor c in s:\n    vals = []\n    def f(x):\n        return x**2 + c\n    iteraciones = 1000\n    old = 0\n    for i in range(iteraciones):\n        new = f(old)\n        old = new\n        if i >= iteraciones - 50:\n            vals.append(new)\n    ax.plot([c]*50, vals, ',k')        \n\nplt.grid(color='r', linewidth=0.5)\nplt.xticks(np.arange(-2, 0.5, 0.25))\nplt.show()"
      ]
    },
    {
      "cell_type": "markdown",
      "metadata": {},
      "source": [
        "En la siguiente figura nos concentramos en un intervalo más pequeño.\n\n"
      ]
    },
    {
      "cell_type": "code",
      "execution_count": 1,
      "metadata": {},
      "outputs": [],
      "source": [
        "fig, ax = plt.subplots(figsize=(10, 10))\n\ns = np.arange(-1.5, -1, 0.0001)\nfor c in s:\n    vals = []\n    def f(x):\n        return x**2 + c\n    iteraciones = 1000\n    old = 0\n    for i in range(iteraciones):\n        new = f(old)\n        old = new\n        if i >= iteraciones - 50:\n            vals.append(new)\n    ax.plot([c]*50, vals, ',k')        \n\nplt.grid(color='r', linewidth=0.5)\nplt.xticks(np.arange(-1.5, -1, 0.05))\nplt.show()"
      ]
    },
    {
      "cell_type": "markdown",
      "metadata": {},
      "source": [
        "En la siguiente figura, dibujamos la rama inferior de estas dos.\n\n"
      ]
    },
    {
      "cell_type": "code",
      "execution_count": 1,
      "metadata": {},
      "outputs": [],
      "source": [
        "fig, ax = plt.subplots(figsize=(10, 10))\n\ns = np.arange(-1.5, -1, 0.0001)\nfor c in s:\n    vals = []\n    def f(x):\n        return x**2 + c\n    iteraciones = 1000\n    old = 0\n    for i in range(iteraciones):\n        new = f(old)\n        old = new\n        if i >= iteraciones - 50:\n            # aquí se están filtrando los valores\n            # en la rama de abajo\n            if new < -0.75:\n                vals.append(new)\n    ax.plot([c]*len(vals), vals, ',k')        \n\nplt.grid(color='r', linewidth=0.5)\nplt.xticks(np.arange(-1.5, -1, 0.05))\nplt.show()"
      ]
    },
    {
      "cell_type": "markdown",
      "metadata": {},
      "source": [
        "Y la siguiente figura muestra la rama superior.\n\n"
      ]
    },
    {
      "cell_type": "code",
      "execution_count": 1,
      "metadata": {},
      "outputs": [],
      "source": [
        "fig, ax = plt.subplots(figsize=(10, 10))\n\ns = np.arange(-1.5, -1, 0.0001)\nfor c in s:\n    vals = []\n    def f(x):\n        return x**2 + c\n    iteraciones = 1000\n    old = 0\n    for i in range(iteraciones):\n        new = f(old)\n        old = new\n        if i >= iteraciones - 50:\n            # aquí se están filtrando los valores\n            # en la rama de arriba\n            if new > -0.75:\n                vals.append(new)\n    ax.plot([c]*len(vals), vals, ',k')        \n\nplt.grid(color='r', linewidth=0.5)\nplt.xticks(np.arange(-1.5, -1, 0.05))\nplt.show()"
      ]
    },
    {
      "cell_type": "markdown",
      "metadata": {},
      "source": [
        "Veamos ahora otro intervalo.\n\n"
      ]
    },
    {
      "cell_type": "code",
      "execution_count": 1,
      "metadata": {},
      "outputs": [],
      "source": [
        "fig, ax = plt.subplots(figsize=(10, 10))\n\ns = np.arange(-1.42, -1.35, 0.00005)\nfor c in s:\n    vals = []\n    def f(x):\n        return x**2 + c\n    iteraciones = 1000\n    old = 0\n    for i in range(iteraciones):\n        new = f(old)\n        old = new\n        if i >= iteraciones - 50:\n            vals.append(new)\n    ax.plot([c]*len(vals), vals, ',k')        \n\nplt.grid(color='r', linewidth=0.5)\nplt.xticks(np.arange(-1.42, -1.35, 0.005))\nplt.show()"
      ]
    },
    {
      "cell_type": "markdown",
      "metadata": {},
      "source": [
        "Vamos a quedarnos con la segunda rama.\n\n"
      ]
    },
    {
      "cell_type": "code",
      "execution_count": 1,
      "metadata": {},
      "outputs": [],
      "source": [
        "fig, ax = plt.subplots(figsize=(10, 10))\n\ns = np.arange(-1.42, -1.35, 0.00001)\nfor c in s:\n    vals = []\n    def f(x):\n        return x**2 + c\n    iteraciones = 1000\n    old = 0\n    for i in range(iteraciones):\n        new = f(old)\n        old = new\n        if i >= iteraciones - 50:\n            if -0.5 < new < 0.25:\n                vals.append(new)\n    ax.plot([c]*len(vals), vals, ',k')        \n\nplt.grid(color='r', linewidth=0.5)\nplt.xticks(np.arange(-1.42, -1.35, 0.005))\nplt.show()"
      ]
    },
    {
      "cell_type": "markdown",
      "metadata": {},
      "source": [
        "Aquí vemos con detalle la \"ventana\" del primer dibujo.\n\n"
      ]
    },
    {
      "cell_type": "code",
      "execution_count": 1,
      "metadata": {},
      "outputs": [],
      "source": [
        "fig, ax = plt.subplots(figsize=(10, 10))\n\ns = np.arange(-1.79, -1.74, 0.00001)\nfor c in s:\n    vals = []\n    def f(x):\n        return x**2 + c\n    iteraciones = 1000\n    old = 0\n    for i in range(iteraciones):\n        new = f(old)\n        old = new\n        if i >= iteraciones - 50:\n            vals.append(new)\n    ax.plot([c]*50, vals, ',k')        \n\nplt.grid(color='r', linewidth=0.5)\nplt.xticks(np.arange(-1.79, -1.74, 0.005))\nplt.show()"
      ]
    },
    {
      "cell_type": "markdown",
      "metadata": {},
      "source": [
        "Aquí vemos la órbita de periodo 3 del examen:\n\n"
      ]
    },
    {
      "cell_type": "code",
      "execution_count": 1,
      "metadata": {},
      "outputs": [],
      "source": [
        "fig, ax = plt.subplots(figsize=(10, 10))\n\ns = np.arange(-2, 0.25, 0.001)\nfor c in s:\n    vals = []\n    def f(x):\n        return x**2 + c\n    iteraciones = 1000\n    old = 0\n    for i in range(iteraciones):\n        new = f(old)\n        old = new\n        if i >= iteraciones - 50:\n            vals.append(new)\n    ax.plot([c]*50, vals, ',k')        \n\nax.plot([-29/16, -29/16, -29/16], [5/4, -1/4, -7/4], 'or')    \nplt.grid(color='r', linewidth=0.5)\nplt.xticks(np.arange(-2, 0.5, 0.25))\nplt.show()"
      ]
    }
  ],
  "metadata": {
    "org": null,
    "kernelspec": {
      "display_name": "Python 3",
      "language": "python",
      "name": "python3"
    },
    "language_info": {
      "codemirror_mode": {
        "name": "ipython",
        "version": 3
      },
      "file_extension": ".py",
      "mimetype": "text/x-python",
      "name": "python",
      "nbconvert_exporter": "python",
      "pygments_lexer": "ipython3",
      "version": "3.5.2"
    }
  },
  "nbformat": 4,
  "nbformat_minor": 0
}