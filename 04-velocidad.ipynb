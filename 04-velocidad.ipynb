{
  "cells": [
    {
      "cell_type": "markdown",
      "metadata": {},
      "source": "Velocidad de aproximación\n=========================\n\n**Date:** <2023-02-12 Sun>\n\n"
    },
    {
      "cell_type": "markdown",
      "metadata": {},
      "source": [
        "Este código sirve para hacer los experimentos indicados en la sección 5.6 del libro. En la primera celda se define la función a iterar. Se define la función `iteraciones`, que toma como argumentos: la función a iterar, la cantidad de iteraciones y la condición inicial. En la segunda celda se produce una gráfica de las iteraciones. La idea es experimentar con diversas definiciones de la función `F`.\n\n"
      ]
    },
    {
      "cell_type": "code",
      "execution_count": 1,
      "metadata": {},
      "outputs": [],
      "source": [
        "from math import sin\n\ndef F(x):\n    return x**2 + 0.25\n\ndef iteracionesf(func, n, x_0):\n    its = [x_0]\n    for i in range(n):\n        nuevo = func(its[-1])\n        its.append(nuevo)\n    return its  \n\nits = iteracionesf(F, 50, 0.2)"
      ]
    },
    {
      "cell_type": "code",
      "execution_count": 1,
      "metadata": {},
      "outputs": [],
      "source": [
        "import matplotlib.pyplot as plt\nplt.figure(figsize=(10,5))\nplt.plot(its)"
      ]
    }
  ],
  "metadata": {
    "org": null,
    "kernelspec": {
      "display_name": "Python 3",
      "language": "python",
      "name": "python3"
    },
    "language_info": {
      "codemirror_mode": {
        "name": "ipython",
        "version": 3
      },
      "file_extension": ".py",
      "mimetype": "text/x-python",
      "name": "python",
      "nbconvert_exporter": "python",
      "pygments_lexer": "ipython3",
      "version": "3.5.2"
    }
  },
  "nbformat": 4,
  "nbformat_minor": 0
}