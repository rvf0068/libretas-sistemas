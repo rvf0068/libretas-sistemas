{
  "cells": [
    {
      "cell_type": "markdown",
      "metadata": {},
      "source": "Diagrama de órbitas, otras funciones\n====================================\n\n"
    },
    {
      "cell_type": "markdown",
      "metadata": {},
      "source": [
        "Veremos los ejercicios del capítulo 8.\n\n"
      ]
    },
    {
      "cell_type": "markdown",
      "metadata": {},
      "source": [
        "## La función seno.\n\n"
      ]
    },
    {
      "cell_type": "markdown",
      "metadata": {},
      "source": [
        "Ejercicio 1.\n\n"
      ]
    },
    {
      "cell_type": "code",
      "execution_count": 1,
      "metadata": {},
      "outputs": [],
      "source": [
        "import matplotlib.pyplot as plt \nimport numpy as np\nimport math\n\nfig, ax = plt.subplots(figsize=(10, 10))\npar_izq = 1\npar_der = math.pi\n\ns = np.arange(par_izq, par_der, 0.001)\nfor c in s:\n    vals = []\n    # aquí va la función\n    def f(x):\n        return c * math.sin(x)\n    iteraciones = 1000\n    # aquí va el punto crítico\n    old = math.pi/2\n    for i in range(iteraciones):\n        new = f(old)\n        old = new\n        if i >= iteraciones - 50:\n            vals.append(new)\n    ax.plot([c]*50, vals, ',k')        \n\nplt.grid(color='r', linewidth=0.5)\nplt.xticks(np.arange(par_izq, par_der, 0.25))\nplt.show()"
      ]
    },
    {
      "cell_type": "markdown",
      "metadata": {},
      "source": [
        "## La función coseno\n\n"
      ]
    },
    {
      "cell_type": "markdown",
      "metadata": {},
      "source": [
        "Ejercicio 4\n\n"
      ]
    },
    {
      "cell_type": "code",
      "execution_count": 1,
      "metadata": {},
      "outputs": [],
      "source": [
        "import matplotlib.pyplot as plt \nimport numpy as np\nimport math\n\nfig, ax = plt.subplots(figsize=(20, 20))\npar_izq = 1\npar_der = 2 * math.pi\n\ns = np.arange(par_izq, par_der, 0.001)\nfor c in s:\n    vals = []\n    # aquí va la función\n    def f(x):\n        return c * math.cos(x)\n    iteraciones = 1000\n    # aquí va el punto crítico\n    old = 0\n    for i in range(iteraciones):\n        new = f(old)\n        old = new\n        if i >= iteraciones - 50:\n            vals.append(new)\n    ax.plot([c]*50, vals, ',k')        \n\nplt.grid(color='r', linewidth=0.5)\nplt.xticks(np.arange(par_izq, par_der, 0.25))\nplt.show()"
      ]
    }
  ],
  "metadata": {
    "org": null,
    "kernelspec": {
      "display_name": "Python 3",
      "language": "python",
      "name": "python3"
    },
    "language_info": {
      "codemirror_mode": {
        "name": "ipython",
        "version": 3
      },
      "file_extension": ".py",
      "mimetype": "text/x-python",
      "name": "python",
      "nbconvert_exporter": "python",
      "pygments_lexer": "ipython3",
      "version": "3.5.2"
    }
  },
  "nbformat": 4,
  "nbformat_minor": 0
}