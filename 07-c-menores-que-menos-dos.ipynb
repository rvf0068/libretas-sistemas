{
 "cells": [
  {
   "cell_type": "markdown",
   "metadata": {},
   "source": [
    "Función cuadrática, parámetro menor que 2\n",
    "=========================================\n",
    "\n"
   ]
  },
  {
   "cell_type": "markdown",
   "metadata": {},
   "source": [
    "En esta celda vemos el diagrama de telaraña para la función cuadrática $Q_{c}(x)=x^{2}+c$, con diversos valores del parámetro $c$, de la condición inicial `x0` y de la cantidad de iteraciones `it`. \n",
    "\n"
   ]
  },
  {
   "cell_type": "code",
   "execution_count": 1,
   "metadata": {},
   "outputs": [],
   "source": [
    "import numpy as np\n",
    "from matplotlib import pyplot as plt\n",
    "from math import sqrt\n",
    "from ipywidgets import interact\n",
    "\n",
    "def diagrama(c, x0, it):\n",
    "    def f(x):\n",
    "        return x**2 + c\n",
    "    def pplus(par):\n",
    "        return (1/2)*(1+sqrt(1-4*par))\n",
    "    def pminus(par):\n",
    "        return (1/2)*(1-sqrt(1-4*par))\n",
    "\n",
    "    fig, ax = plt.subplots()\n",
    "    ax.set_aspect('equal', adjustable='box')\n",
    "    x = [x0]\n",
    "    y = [x0]\n",
    "    s = np.arange(-pplus(c)-1, pplus(c)+1, 0.01)\n",
    "    ax.spines['left'].set_position(('data', 0))\n",
    "    ax.spines['bottom'].set_position(('data', 0))\n",
    "    ax.spines['top'].set_visible(False)\n",
    "    ax.spines['right'].set_visible(False)\n",
    "    for i in range(it):\n",
    "        ax.plot(s, f(s), lw=2, color='blue')\n",
    "        ax.plot(s, s, color='red')\n",
    "        x.append(x[2*i])\n",
    "        x.append(f(x[2*i]))\n",
    "        y.append(f(y[2*i]))\n",
    "        y.append(f(y[2*i]))\n",
    "        ax.plot(x, y, color='green')\n",
    "\n",
    "interact(diagrama, c = (3, 0.5, 0.05), x0=(0, 1, 0.1), it=(5,100, 1))"
   ]
  }
 ],
 "metadata": {
  "kernelspec": {
   "display_name": "Python 3",
   "language": "python",
   "name": "python3"
  },
  "language_info": {
   "codemirror_mode": {
    "name": "ipython",
    "version": 3
   },
   "file_extension": ".py",
   "mimetype": "text/x-python",
   "name": "python",
   "nbconvert_exporter": "python",
   "pygments_lexer": "ipython3",
   "version": "3.9.2"
  },
  "org": null
 },
 "nbformat": 4,
 "nbformat_minor": 1
}
